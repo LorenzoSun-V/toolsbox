{
 "cells": [
  {
   "cell_type": "code",
   "execution_count": 1,
   "metadata": {},
   "outputs": [],
   "source": [
    "'''\n",
    "Author: BTZN0325 sunjiahui@boton-tech.com\n",
    "Date: 2023-11-09 15:14:01\n",
    "LastEditors: BTZN0325 sunjiahui@boton-tech.com\n",
    "LastEditTime: 2023-11-14 14:29:09\n",
    "Description: \n",
    "'''\n",
    "'''\n",
    "Author: 孙家辉 sunjiahui@boton-tech.com\n",
    "Date: 2023-11-08 07:18:11\n",
    "LastEditors: 孙家辉 sunjiahui@boton-tech.com\n",
    "LastEditTime: 2023-11-08 07:33:38\n",
    "Description: \n",
    "'''\n",
    "from dataset_utils import DetValidator, Visualizer\n",
    "\n",
    "# 1. 如何使用Visualizer\n",
    "img_dir = \"/data/bt/hw_multi/raw/ir/1floor/20231020_1floor/images\"  # 图像文件夹路径\n",
    "vis_dir = \"./\"  # 可视化结果保存路径\n",
    "visualizer = Visualizer(img_dir, vis_dir)"
   ]
  },
  {
   "cell_type": "code",
   "execution_count": 2,
   "metadata": {},
   "outputs": [
    {
     "name": "stderr",
     "output_type": "stream",
     "text": [
      "100%|██████████| 611/611 [00:02<00:00, 273.34it/s]\n"
     ]
    }
   ],
   "source": [
    "# 用于检查coco格式的json标签是否正确\n",
    "coco_json = \"/data/bt/hw_multi/raw/ir/1floor/20231020_1floor/trainval/v0.1/val.json\"  # coco格式的json文件路径\n",
    "visualizer.vis_coco_style(coco_json)  "
   ]
  },
  {
   "cell_type": "code",
   "execution_count": 3,
   "metadata": {},
   "outputs": [
    {
     "name": "stderr",
     "output_type": "stream",
     "text": [
      "100%|██████████| 6102/6102 [00:20<00:00, 296.36it/s]\n"
     ]
    }
   ],
   "source": [
    "# 用于检查yolo格式的label是否正确\n",
    "yolo_label = \"/data/bt/hw_multi/raw/ir/1floor/20231020_1floor/labels\" # yolo格式的label文件夹路径\n",
    "visualizer.vis_yolo_style(yolo_label)"
   ]
  },
  {
   "cell_type": "code",
   "execution_count": 4,
   "metadata": {},
   "outputs": [
    {
     "name": "stderr",
     "output_type": "stream",
     "text": [
      "100%|██████████| 6102/6102 [00:03<00:00, 2028.25it/s]\n"
     ]
    }
   ],
   "source": [
    "# 用于可视化xyxy格式的label\n",
    "xyxy_label = \"/lorenzo/bt_repo/ultralytics/runs/hwir/cls2_20231107_1floor_val/labels\" # xyxy格式的label文件夹路径\n",
    "visualizer.vis_xyxy_style(xyxy_label)"
   ]
  },
  {
   "cell_type": "code",
   "execution_count": 5,
   "metadata": {},
   "outputs": [
    {
     "name": "stdout",
     "output_type": "stream",
     "text": [
      "                 Class     Images  Instances      Box(P          R      mAP50  mAP50-95)\n",
      "                   all        611        564      0.921      0.493      0.992      0.905\n",
      "                    SL        611        563      0.841      0.986      0.989      0.814\n",
      "                    MS        611          1          1          0      0.995      0.995\n"
     ]
    }
   ],
   "source": [
    "# 2. 如何使用DetValidator\n",
    "detval = DetValidator(\n",
    "    pred_path=\"/lorenzo/bt_repo/ultralytics/runs/hwir/cls2_20231107_1floor_val/labels\",  # 预测结果文件夹路径，默认conf_thresh=0.45,nms_thresh=0.65\n",
    "    gt_path=\"/data/bt/hw_multi/raw/ir/1floor/20231020_1floor/gts\",  # 真值文件夹路径\n",
    "    val_list_path=\"/data/bt/hw_multi/raw/ir/1floor/20231020_1floor/trainval/v0.1/val.txt\",  # 预测的图像文件名列表文件路径\n",
    "    names={0:'SL', 1:'MS'}  # 类别字典\n",
    ")\n",
    "detval.cal_metrics()"
   ]
  }
 ],
 "metadata": {
  "kernelspec": {
   "display_name": "base",
   "language": "python",
   "name": "python3"
  },
  "language_info": {
   "codemirror_mode": {
    "name": "ipython",
    "version": 3
   },
   "file_extension": ".py",
   "mimetype": "text/x-python",
   "name": "python",
   "nbconvert_exporter": "python",
   "pygments_lexer": "ipython3",
   "version": "3.10.9"
  }
 },
 "nbformat": 4,
 "nbformat_minor": 2
}
